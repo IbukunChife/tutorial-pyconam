{
 "cells": [
  {
   "cell_type": "code",
   "execution_count": 1,
   "metadata": {},
   "outputs": [
    {
     "name": "stdout",
     "output_type": "stream",
     "text": [
      "Acessando a url http://www.gilenofilho.com.br/python-datasets\n",
      "<title>Bibliotecas Python para carregar Dataset's | Gileno Filho</title>\n",
      "Acessando a url http://www.gilenofilho.com.br/como-funciona-o-orm-do-django\n",
      "<title>Como funciona o ORM do Django | Gileno Filho</title>\n",
      "Acessando a url http://www.gilenofilho.com.br/curso-gratuito-de-django-com-python-3\n",
      "<title>Curso Gratuito de Django com Python 3 | Gileno Filho</title>\n",
      "Acessando a url http://www.gilenofilho.com.br/programacao-felicidade-mercado-e-outras-coisas\n",
      "<title>Programação, felicidade, mercado e outras coisas... | Gileno Filho</title>\n",
      "Acessando a url http://www.gilenofilho.com.br/usando-o-scrapy-e-o-rethinkdb-para-capturar-e-armazenar-dados-imobiliarios-parte-iii\n",
      "<title>Usando o Scrapy e o Rethinkdb para capturar e armazenar dados imobiliários - Parte III | Gileno Filho</title>\n"
     ]
    }
   ],
   "source": [
    "import requests\n",
    "from bs4 import BeautifulSoup\n",
    "resposta = requests.get(\n",
    "    'http://www.gilenofilho.com.br'\n",
    ")\n",
    "soup = BeautifulSoup(resposta.text, 'html.parser')\n",
    "artigos = soup.findAll('article')\n",
    "dominio = 'http://www.gilenofilho.com.br'\n",
    "for artigo in artigos:\n",
    "    url = dominio + artigo.find('a').attrs['href']\n",
    "    print('Acessando a url', url)\n",
    "    r = requests.get(url)\n",
    "    artigo_soup = BeautifulSoup(\n",
    "        r.text, 'html.parser'\n",
    "    )\n",
    "    print(artigo_soup.find('title'))"
   ]
  },
  {
   "cell_type": "code",
   "execution_count": null,
   "metadata": {},
   "outputs": [],
   "source": []
  }
 ],
 "metadata": {
  "kernelspec": {
   "display_name": "Python 3.6",
   "language": "python",
   "name": "python36"
  },
  "language_info": {
   "codemirror_mode": {
    "name": "ipython",
    "version": 3
   },
   "file_extension": ".py",
   "mimetype": "text/x-python",
   "name": "python",
   "nbconvert_exporter": "python",
   "pygments_lexer": "ipython3",
   "version": "3.6.3"
  }
 },
 "nbformat": 4,
 "nbformat_minor": 2
}
