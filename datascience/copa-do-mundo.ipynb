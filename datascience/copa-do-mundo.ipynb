{
 "cells": [
  {
   "cell_type": "code",
   "execution_count": 1,
   "metadata": {},
   "outputs": [],
   "source": [
    "%matplotlib inline\n",
    "import pandas as pd\n",
    "import matplotlib.pyplot as plt"
   ]
  },
  {
   "cell_type": "code",
   "execution_count": 2,
   "metadata": {},
   "outputs": [],
   "source": [
    "dados = pd.read_csv('FIFA 2018 Statistics.csv')"
   ]
  },
  {
   "cell_type": "code",
   "execution_count": 3,
   "metadata": {},
   "outputs": [
    {
     "data": {
      "text/html": [
       "<div>\n",
       "<style scoped>\n",
       "    .dataframe tbody tr th:only-of-type {\n",
       "        vertical-align: middle;\n",
       "    }\n",
       "\n",
       "    .dataframe tbody tr th {\n",
       "        vertical-align: top;\n",
       "    }\n",
       "\n",
       "    .dataframe thead th {\n",
       "        text-align: right;\n",
       "    }\n",
       "</style>\n",
       "<table border=\"1\" class=\"dataframe\">\n",
       "  <thead>\n",
       "    <tr style=\"text-align: right;\">\n",
       "      <th></th>\n",
       "      <th>Date</th>\n",
       "      <th>Team</th>\n",
       "      <th>Opponent</th>\n",
       "      <th>Goal Scored</th>\n",
       "      <th>Ball Possession %</th>\n",
       "      <th>Attempts</th>\n",
       "      <th>On-Target</th>\n",
       "      <th>Off-Target</th>\n",
       "      <th>Blocked</th>\n",
       "      <th>Corners</th>\n",
       "      <th>...</th>\n",
       "      <th>Yellow Card</th>\n",
       "      <th>Yellow &amp; Red</th>\n",
       "      <th>Red</th>\n",
       "      <th>Man of the Match</th>\n",
       "      <th>1st Goal</th>\n",
       "      <th>Round</th>\n",
       "      <th>PSO</th>\n",
       "      <th>Goals in PSO</th>\n",
       "      <th>Own goals</th>\n",
       "      <th>Own goal Time</th>\n",
       "    </tr>\n",
       "  </thead>\n",
       "  <tbody>\n",
       "    <tr>\n",
       "      <th>0</th>\n",
       "      <td>14-06-2018</td>\n",
       "      <td>Russia</td>\n",
       "      <td>Saudi Arabia</td>\n",
       "      <td>5</td>\n",
       "      <td>40</td>\n",
       "      <td>13</td>\n",
       "      <td>7</td>\n",
       "      <td>3</td>\n",
       "      <td>3</td>\n",
       "      <td>6</td>\n",
       "      <td>...</td>\n",
       "      <td>0</td>\n",
       "      <td>0</td>\n",
       "      <td>0</td>\n",
       "      <td>Yes</td>\n",
       "      <td>12.0</td>\n",
       "      <td>Group Stage</td>\n",
       "      <td>No</td>\n",
       "      <td>0</td>\n",
       "      <td>NaN</td>\n",
       "      <td>NaN</td>\n",
       "    </tr>\n",
       "    <tr>\n",
       "      <th>1</th>\n",
       "      <td>14-06-2018</td>\n",
       "      <td>Saudi Arabia</td>\n",
       "      <td>Russia</td>\n",
       "      <td>0</td>\n",
       "      <td>60</td>\n",
       "      <td>6</td>\n",
       "      <td>0</td>\n",
       "      <td>3</td>\n",
       "      <td>3</td>\n",
       "      <td>2</td>\n",
       "      <td>...</td>\n",
       "      <td>0</td>\n",
       "      <td>0</td>\n",
       "      <td>0</td>\n",
       "      <td>No</td>\n",
       "      <td>NaN</td>\n",
       "      <td>Group Stage</td>\n",
       "      <td>No</td>\n",
       "      <td>0</td>\n",
       "      <td>NaN</td>\n",
       "      <td>NaN</td>\n",
       "    </tr>\n",
       "    <tr>\n",
       "      <th>2</th>\n",
       "      <td>15-06-2018</td>\n",
       "      <td>Egypt</td>\n",
       "      <td>Uruguay</td>\n",
       "      <td>0</td>\n",
       "      <td>43</td>\n",
       "      <td>8</td>\n",
       "      <td>3</td>\n",
       "      <td>3</td>\n",
       "      <td>2</td>\n",
       "      <td>0</td>\n",
       "      <td>...</td>\n",
       "      <td>2</td>\n",
       "      <td>0</td>\n",
       "      <td>0</td>\n",
       "      <td>No</td>\n",
       "      <td>NaN</td>\n",
       "      <td>Group Stage</td>\n",
       "      <td>No</td>\n",
       "      <td>0</td>\n",
       "      <td>NaN</td>\n",
       "      <td>NaN</td>\n",
       "    </tr>\n",
       "    <tr>\n",
       "      <th>3</th>\n",
       "      <td>15-06-2018</td>\n",
       "      <td>Uruguay</td>\n",
       "      <td>Egypt</td>\n",
       "      <td>1</td>\n",
       "      <td>57</td>\n",
       "      <td>14</td>\n",
       "      <td>4</td>\n",
       "      <td>6</td>\n",
       "      <td>4</td>\n",
       "      <td>5</td>\n",
       "      <td>...</td>\n",
       "      <td>0</td>\n",
       "      <td>0</td>\n",
       "      <td>0</td>\n",
       "      <td>Yes</td>\n",
       "      <td>89.0</td>\n",
       "      <td>Group Stage</td>\n",
       "      <td>No</td>\n",
       "      <td>0</td>\n",
       "      <td>NaN</td>\n",
       "      <td>NaN</td>\n",
       "    </tr>\n",
       "    <tr>\n",
       "      <th>4</th>\n",
       "      <td>15-06-2018</td>\n",
       "      <td>Morocco</td>\n",
       "      <td>Iran</td>\n",
       "      <td>0</td>\n",
       "      <td>64</td>\n",
       "      <td>13</td>\n",
       "      <td>3</td>\n",
       "      <td>6</td>\n",
       "      <td>4</td>\n",
       "      <td>5</td>\n",
       "      <td>...</td>\n",
       "      <td>1</td>\n",
       "      <td>0</td>\n",
       "      <td>0</td>\n",
       "      <td>No</td>\n",
       "      <td>NaN</td>\n",
       "      <td>Group Stage</td>\n",
       "      <td>No</td>\n",
       "      <td>0</td>\n",
       "      <td>1.0</td>\n",
       "      <td>90.0</td>\n",
       "    </tr>\n",
       "  </tbody>\n",
       "</table>\n",
       "<p>5 rows × 27 columns</p>\n",
       "</div>"
      ],
      "text/plain": [
       "         Date          Team      Opponent  Goal Scored  Ball Possession %  \\\n",
       "0  14-06-2018        Russia  Saudi Arabia            5                 40   \n",
       "1  14-06-2018  Saudi Arabia        Russia            0                 60   \n",
       "2  15-06-2018         Egypt       Uruguay            0                 43   \n",
       "3  15-06-2018       Uruguay         Egypt            1                 57   \n",
       "4  15-06-2018       Morocco          Iran            0                 64   \n",
       "\n",
       "   Attempts  On-Target  Off-Target  Blocked  Corners      ...        \\\n",
       "0        13          7           3        3        6      ...         \n",
       "1         6          0           3        3        2      ...         \n",
       "2         8          3           3        2        0      ...         \n",
       "3        14          4           6        4        5      ...         \n",
       "4        13          3           6        4        5      ...         \n",
       "\n",
       "   Yellow Card  Yellow & Red  Red  Man of the Match  1st Goal        Round  \\\n",
       "0            0             0    0               Yes      12.0  Group Stage   \n",
       "1            0             0    0                No       NaN  Group Stage   \n",
       "2            2             0    0                No       NaN  Group Stage   \n",
       "3            0             0    0               Yes      89.0  Group Stage   \n",
       "4            1             0    0                No       NaN  Group Stage   \n",
       "\n",
       "   PSO  Goals in PSO  Own goals  Own goal Time  \n",
       "0   No             0        NaN            NaN  \n",
       "1   No             0        NaN            NaN  \n",
       "2   No             0        NaN            NaN  \n",
       "3   No             0        NaN            NaN  \n",
       "4   No             0        1.0           90.0  \n",
       "\n",
       "[5 rows x 27 columns]"
      ]
     },
     "execution_count": 3,
     "metadata": {},
     "output_type": "execute_result"
    }
   ],
   "source": [
    "dados.head()"
   ]
  },
  {
   "cell_type": "code",
   "execution_count": 4,
   "metadata": {},
   "outputs": [
    {
     "data": {
      "text/plain": [
       "Index(['Date', 'Team', 'Opponent', 'Goal Scored', 'Ball Possession %',\n",
       "       'Attempts', 'On-Target', 'Off-Target', 'Blocked', 'Corners', 'Offsides',\n",
       "       'Free Kicks', 'Saves', 'Pass Accuracy %', 'Passes',\n",
       "       'Distance Covered (Kms)', 'Fouls Committed', 'Yellow Card',\n",
       "       'Yellow & Red', 'Red', 'Man of the Match', '1st Goal', 'Round', 'PSO',\n",
       "       'Goals in PSO', 'Own goals', 'Own goal Time'],\n",
       "      dtype='object')"
      ]
     },
     "execution_count": 4,
     "metadata": {},
     "output_type": "execute_result"
    }
   ],
   "source": [
    "dados.columns"
   ]
  },
  {
   "cell_type": "code",
   "execution_count": 5,
   "metadata": {},
   "outputs": [
    {
     "data": {
      "text/plain": [
       "Date                        14-06-2018\n",
       "Team                            Russia\n",
       "Opponent                  Saudi Arabia\n",
       "Goal Scored                          5\n",
       "Ball Possession %                   40\n",
       "Attempts                            13\n",
       "On-Target                            7\n",
       "Off-Target                           3\n",
       "Blocked                              3\n",
       "Corners                              6\n",
       "Offsides                             3\n",
       "Free Kicks                          11\n",
       "Saves                                0\n",
       "Pass Accuracy %                     78\n",
       "Passes                             306\n",
       "Distance Covered (Kms)             118\n",
       "Fouls Committed                     22\n",
       "Yellow Card                          0\n",
       "Yellow & Red                         0\n",
       "Red                                  0\n",
       "Man of the Match                   Yes\n",
       "1st Goal                            12\n",
       "Round                      Group Stage\n",
       "PSO                                 No\n",
       "Goals in PSO                         0\n",
       "Own goals                          NaN\n",
       "Own goal Time                      NaN\n",
       "Name: 0, dtype: object"
      ]
     },
     "execution_count": 5,
     "metadata": {},
     "output_type": "execute_result"
    }
   ],
   "source": [
    "dados.iloc[0]"
   ]
  },
  {
   "cell_type": "code",
   "execution_count": 6,
   "metadata": {},
   "outputs": [
    {
     "data": {
      "text/plain": [
       "Date                        14-06-2018\n",
       "Team                      Saudi Arabia\n",
       "Opponent                        Russia\n",
       "Goal Scored                          0\n",
       "Ball Possession %                   60\n",
       "Attempts                             6\n",
       "On-Target                            0\n",
       "Off-Target                           3\n",
       "Blocked                              3\n",
       "Corners                              2\n",
       "Offsides                             1\n",
       "Free Kicks                          25\n",
       "Saves                                2\n",
       "Pass Accuracy %                     86\n",
       "Passes                             511\n",
       "Distance Covered (Kms)             105\n",
       "Fouls Committed                     10\n",
       "Yellow Card                          0\n",
       "Yellow & Red                         0\n",
       "Red                                  0\n",
       "Man of the Match                    No\n",
       "1st Goal                           NaN\n",
       "Round                      Group Stage\n",
       "PSO                                 No\n",
       "Goals in PSO                         0\n",
       "Own goals                          NaN\n",
       "Own goal Time                      NaN\n",
       "Name: 1, dtype: object"
      ]
     },
     "execution_count": 6,
     "metadata": {},
     "output_type": "execute_result"
    }
   ],
   "source": [
    "dados.iloc[1]"
   ]
  },
  {
   "cell_type": "code",
   "execution_count": 7,
   "metadata": {},
   "outputs": [
    {
     "data": {
      "text/plain": [
       "Team\n",
       "Argentina          6\n",
       "Australia          2\n",
       "Belgium           16\n",
       "Brazil             8\n",
       "Colombia           6\n",
       "Costa Rica         2\n",
       "Croatia           14\n",
       "Denmark            3\n",
       "Egypt              2\n",
       "England           12\n",
       "France            14\n",
       "Germany            2\n",
       "Iceland            2\n",
       "Iran               2\n",
       "Japan              6\n",
       "Korea Republic     3\n",
       "Mexico             3\n",
       "Morocco            2\n",
       "Nigeria            3\n",
       "Panama             2\n",
       "Peru               2\n",
       "Poland             2\n",
       "Portugal           6\n",
       "Russia            11\n",
       "Saudi Arabia       2\n",
       "Senegal            4\n",
       "Serbia             2\n",
       "Spain              7\n",
       "Sweden             6\n",
       "Switzerland        5\n",
       "Tunisia            5\n",
       "Uruguay            7\n",
       "Name: Goal Scored, dtype: int64"
      ]
     },
     "execution_count": 7,
     "metadata": {},
     "output_type": "execute_result"
    }
   ],
   "source": [
    "dados.groupby('Team')['Goal Scored'].sum()"
   ]
  },
  {
   "cell_type": "code",
   "execution_count": 8,
   "metadata": {},
   "outputs": [
    {
     "data": {
      "text/plain": [
       "<matplotlib.axes._subplots.AxesSubplot at 0xa3e6a53908>"
      ]
     },
     "execution_count": 8,
     "metadata": {},
     "output_type": "execute_result"
    },
    {
     "data": {
      "image/png": "[encoded data removed]",
      "text/plain": [
       "<Figure size 432x288 with 1 Axes>"
      ]
     },
     "metadata": {},
     "output_type": "display_data"
    }
   ],
   "source": [
    "dados.groupby('Team')['Goal Scored'].sum()\\\n",
    "    .reset_index().sort_values('Goal Scored')\\\n",
    "    .plot.barh('Team', 'Goal Scored')"
   ]
  },
  {
   "cell_type": "code",
   "execution_count": 14,
   "metadata": {},
   "outputs": [
    {
     "data": {
      "image/png": "[encoded data removed]",
      "text/plain": [
       "<Figure size 432x288 with 1 Axes>"
      ]
     },
     "metadata": {},
     "output_type": "display_data"
    }
   ],
   "source": [
    "plot = dados.groupby('Team')['Goal Scored'].sum()\\\n",
    "    .reset_index().sort_values('Goal Scored')\\\n",
    "    .plot.barh('Team', 'Goal Scored')\n",
    "fig = plot.get_figure()\n",
    "fig.savefig('barh.png')"
   ]
  },
  {
   "cell_type": "code",
   "execution_count": null,
   "metadata": {},
   "outputs": [],
   "source": []
  }
 ],
 "metadata": {
  "kernelspec": {
   "display_name": "Python 3",
   "language": "python",
   "name": "python3"
  },
  "language_info": {
   "codemirror_mode": {
    "name": "ipython",
    "version": 3
   },
   "file_extension": ".py",
   "mimetype": "text/x-python",
   "name": "python",
   "nbconvert_exporter": "python",
   "pygments_lexer": "ipython3",
   "version": "3.6.5"
  }
 },
 "nbformat": 4,
 "nbformat_minor": 2
}
